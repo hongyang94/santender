{
 "cells": [
  {
   "cell_type": "code",
   "execution_count": 2,
   "metadata": {},
   "outputs": [],
   "source": [
    "from sklearn.model_selection import StratifiedKFold\n",
    "from sklearn.model_selection import train_test_split\n",
    "from sklearn.metrics import roc_auc_score\n",
    "\n",
    "import pandas as pd\n",
    "import numpy as np\n",
    "import time\n",
    "import lightgbm as lgb"
   ]
  },
  {
   "cell_type": "code",
   "execution_count": 3,
   "metadata": {},
   "outputs": [],
   "source": [
    "def verbalise_dataset(train, test):\n",
    "    print('Train shape:' + str(train.shape))\n",
    "    print('Test shape:' + str(test.shape))\n",
    "    print()"
   ]
  },
  {
   "cell_type": "code",
   "execution_count": 4,
   "metadata": {},
   "outputs": [
    {
     "name": "stdout",
     "output_type": "stream",
     "text": [
      "Dataset loaded, time elapsed: 27.967193603515625\n",
      "Dataset loaded, time elapsed: 26.628715991973877\n",
      "Train shape:(76020, 371)\n",
      "Test shape:(75818, 370)\n",
      "\n"
     ]
    }
   ],
   "source": [
    "def load_file(filepath):\n",
    "\n",
    "    start_time = time.time()\n",
    "    df = pd.read_csv(filepath, low_memory=False)\n",
    "    elapsed_time = time.time() - start_time\n",
    "    print(\"Dataset loaded, time elapsed: \" + str(elapsed_time))\n",
    "\n",
    "    return df\n",
    "\n",
    "train = load_file('../data/train.csv')  # (76020, 371)\n",
    "test = load_file('../data/test.csv')  # (75818, 370)\n",
    "verbalise_dataset(train, test)"
   ]
  },
  {
   "cell_type": "code",
   "execution_count": 5,
   "metadata": {},
   "outputs": [
    {
     "name": "stdout",
     "output_type": "stream",
     "text": [
      "Removing duplicated features\n",
      "Train shape:(76020, 309)\n",
      "Test shape:(75818, 308)\n",
      "\n"
     ]
    }
   ],
   "source": [
    "def remove_duplicate_col(train, test):\n",
    "\n",
    "    print('Removing duplicated features')\n",
    "    output = []\n",
    "    columns = train.columns  # list of headers\n",
    "    for i in range(len(columns)-1):\n",
    "        for j in range(i+1,len(columns)):\n",
    "            if np.array_equal(train[columns[i]].values, train[columns[j]].values) and columns[j] not in output:\n",
    "                    output.append(columns[j])\n",
    "    \n",
    "    train = train.drop(output, axis=1)\n",
    "    test = test.drop(output, axis=1)\n",
    "\n",
    "    return train, test\n",
    "\n",
    "\n",
    "clean_train, clean_test = remove_duplicate_col(train, test)\n",
    "verbalise_dataset(clean_train, clean_test)"
   ]
  },
  {
   "cell_type": "code",
   "execution_count": 6,
   "metadata": {},
   "outputs": [
    {
     "name": "stdout",
     "output_type": "stream",
     "text": [
      "Removing constant features\n",
      "Train shape:(76020, 308)\n",
      "Test shape:(75818, 307)\n",
      "\n"
     ]
    }
   ],
   "source": [
    "def remove_constant_col(train, test):\n",
    "\n",
    "    print('Removing constant features')\n",
    "    columns = []\n",
    "    for col in train.columns:\n",
    "        if train[col].std() == 0:\n",
    "            columns.append(col)\n",
    "\n",
    "    train = train.drop(columns, axis=1)\n",
    "    test = test.drop(columns, axis=1)\n",
    "\n",
    "    return train, test\n",
    "\n",
    "clean_train, clean_test = remove_constant_col(clean_train, clean_test)\n",
    "verbalise_dataset(clean_train, clean_test)"
   ]
  },
  {
   "cell_type": "code",
   "execution_count": 13,
   "metadata": {},
   "outputs": [
    {
     "ename": "AttributeError",
     "evalue": "'DataFrame' object has no attribute 'ID'",
     "output_type": "error",
     "traceback": [
      "\u001b[1;31m---------------------------------------------------------------------------\u001b[0m",
      "\u001b[1;31mAttributeError\u001b[0m                            Traceback (most recent call last)",
      "\u001b[1;32m<ipython-input-13-b36ceac92f60>\u001b[0m in \u001b[0;36m<module>\u001b[1;34m\u001b[0m\n\u001b[0;32m      6\u001b[0m \u001b[0mskf\u001b[0m \u001b[1;33m=\u001b[0m \u001b[0mStratifiedKFold\u001b[0m\u001b[1;33m(\u001b[0m\u001b[0mn_splits\u001b[0m\u001b[1;33m=\u001b[0m\u001b[0mn_splits\u001b[0m\u001b[1;33m,\u001b[0m \u001b[0mshuffle\u001b[0m\u001b[1;33m=\u001b[0m\u001b[1;32mTrue\u001b[0m\u001b[1;33m)\u001b[0m\u001b[1;33m\u001b[0m\u001b[1;33m\u001b[0m\u001b[0m\n\u001b[0;32m      7\u001b[0m \u001b[1;33m\u001b[0m\u001b[0m\n\u001b[1;32m----> 8\u001b[1;33m \u001b[0mtest_id\u001b[0m \u001b[1;33m=\u001b[0m \u001b[0mtest\u001b[0m\u001b[1;33m.\u001b[0m\u001b[0mID\u001b[0m\u001b[1;33m\u001b[0m\u001b[1;33m\u001b[0m\u001b[0m\n\u001b[0m\u001b[0;32m      9\u001b[0m \u001b[0mtest\u001b[0m \u001b[1;33m=\u001b[0m \u001b[0mtest\u001b[0m\u001b[1;33m.\u001b[0m\u001b[0mdrop\u001b[0m\u001b[1;33m(\u001b[0m\u001b[1;33m[\u001b[0m\u001b[1;34m\"ID\"\u001b[0m\u001b[1;33m]\u001b[0m\u001b[1;33m,\u001b[0m\u001b[0maxis\u001b[0m\u001b[1;33m=\u001b[0m\u001b[1;36m1\u001b[0m\u001b[1;33m)\u001b[0m\u001b[1;33m\u001b[0m\u001b[1;33m\u001b[0m\u001b[0m\n\u001b[0;32m     10\u001b[0m \u001b[0mtarget\u001b[0m \u001b[1;33m=\u001b[0m \u001b[0mnp\u001b[0m\u001b[1;33m.\u001b[0m\u001b[0mzeros\u001b[0m\u001b[1;33m(\u001b[0m\u001b[0mtest\u001b[0m\u001b[1;33m.\u001b[0m\u001b[0mshape\u001b[0m\u001b[1;33m[\u001b[0m\u001b[1;36m0\u001b[0m\u001b[1;33m]\u001b[0m\u001b[1;33m)\u001b[0m\u001b[1;33m\u001b[0m\u001b[1;33m\u001b[0m\u001b[0m\n",
      "\u001b[1;32mC:\\ProgramData\\Anaconda3\\lib\\site-packages\\pandas\\core\\generic.py\u001b[0m in \u001b[0;36m__getattr__\u001b[1;34m(self, name)\u001b[0m\n\u001b[0;32m   4374\u001b[0m             \u001b[1;32mif\u001b[0m \u001b[0mself\u001b[0m\u001b[1;33m.\u001b[0m\u001b[0m_info_axis\u001b[0m\u001b[1;33m.\u001b[0m\u001b[0m_can_hold_identifiers_and_holds_name\u001b[0m\u001b[1;33m(\u001b[0m\u001b[0mname\u001b[0m\u001b[1;33m)\u001b[0m\u001b[1;33m:\u001b[0m\u001b[1;33m\u001b[0m\u001b[1;33m\u001b[0m\u001b[0m\n\u001b[0;32m   4375\u001b[0m                 \u001b[1;32mreturn\u001b[0m \u001b[0mself\u001b[0m\u001b[1;33m[\u001b[0m\u001b[0mname\u001b[0m\u001b[1;33m]\u001b[0m\u001b[1;33m\u001b[0m\u001b[1;33m\u001b[0m\u001b[0m\n\u001b[1;32m-> 4376\u001b[1;33m             \u001b[1;32mreturn\u001b[0m \u001b[0mobject\u001b[0m\u001b[1;33m.\u001b[0m\u001b[0m__getattribute__\u001b[0m\u001b[1;33m(\u001b[0m\u001b[0mself\u001b[0m\u001b[1;33m,\u001b[0m \u001b[0mname\u001b[0m\u001b[1;33m)\u001b[0m\u001b[1;33m\u001b[0m\u001b[1;33m\u001b[0m\u001b[0m\n\u001b[0m\u001b[0;32m   4377\u001b[0m \u001b[1;33m\u001b[0m\u001b[0m\n\u001b[0;32m   4378\u001b[0m     \u001b[1;32mdef\u001b[0m \u001b[0m__setattr__\u001b[0m\u001b[1;33m(\u001b[0m\u001b[0mself\u001b[0m\u001b[1;33m,\u001b[0m \u001b[0mname\u001b[0m\u001b[1;33m,\u001b[0m \u001b[0mvalue\u001b[0m\u001b[1;33m)\u001b[0m\u001b[1;33m:\u001b[0m\u001b[1;33m\u001b[0m\u001b[1;33m\u001b[0m\u001b[0m\n",
      "\u001b[1;31mAttributeError\u001b[0m: 'DataFrame' object has no attribute 'ID'"
     ]
    }
   ],
   "source": [
    "# split data into train and test\n",
    "X = clean_train.drop([\"TARGET\",\"ID\"],axis=1)\n",
    "Y = clean_train['TARGET'].values\n",
    "\n",
    "n_splits = 10\n",
    "skf = StratifiedKFold(n_splits=n_splits, shuffle=True)\n",
    "\n",
    "test_id = test.ID\n",
    "test = test.drop([\"ID\"],axis=1)\n",
    "target = np.zeros(test.shape[0])\n",
    "\n",
    "total_score = 0.0\n",
    "for train_index, test_index in skf.split(X, Y):\n",
    "    X_train, X_test = X.iloc[train_index], X.iloc[test_index]\n",
    "    Y_train, Y_test = Y[train_index], Y[test_index]\n",
    "    plt.pie(Y_test)\n",
    "    \n",
    "    d_train = lgb.Dataset(X_train, label=Y_train)   # (60816, 306) (15204, 306)\n",
    "    params = {\n",
    "        'boosting_type': 'gbdt',\n",
    "        'objective': 'binary',\n",
    "        'metric': 'auc',\n",
    "    }\n",
    "    clf = lgb.train(train_set=d_train, params=params)\n",
    "    \n",
    "    Y_pred=clf.predict(X_test)\n",
    "    score = roc_auc_score(Y_test, Y_pred)\n",
    "    total_score += score\n",
    "    print(\"Score: \" + str(score))\n",
    "    \n",
    "    probs = clf.predict(test)\n",
    "    target += probs / n_splits\n",
    "\n",
    "average_score = total_score / n_splits\n",
    "print(\"Average training score: \" + str(average_score))\n",
    "\n",
    "submission = pd.DataFrame({\"ID\":test_id, \"TARGET\": target})\n",
    "submission.to_csv(\"submission.csv\", index=False)"
   ]
  },
  {
   "cell_type": "code",
   "execution_count": null,
   "metadata": {},
   "outputs": [],
   "source": []
  }
 ],
 "metadata": {
  "kernelspec": {
   "display_name": "Python 3",
   "language": "python",
   "name": "python3"
  }
 },
 "nbformat": 4,
 "nbformat_minor": 2
}
