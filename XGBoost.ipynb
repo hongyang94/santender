{
 "cells": [
  {
   "cell_type": "code",
   "execution_count": 2,
   "metadata": {},
   "outputs": [],
   "source": [
    "import pandas as pd\n",
    "import numpy as np\n",
    "\n",
    "from sklearn.model_selection import train_test_split\n",
    "from sklearn import linear_model, metrics\n",
    "from sklearn.feature_selection import RFE\n",
    "from sklearn.metrics import roc_auc_score\n",
    "from sklearn.decomposition import PCA\n",
    "from sklearn.preprocessing import normalize\n",
    "from sklearn.ensemble import ExtraTreesClassifier\n",
    "from sklearn.ensemble import RandomForestClassifier \n",
    "from sklearn.feature_selection import SelectFromModel\n",
    "\n",
    "import xgboost as xgb\n",
    "import lightgbm as lgb"
   ]
  },
  {
   "cell_type": "code",
   "execution_count": 3,
   "metadata": {},
   "outputs": [
    {
     "name": "stdout",
     "output_type": "stream",
     "text": [
      "dimention of the traing data(76020, 371)\n",
      "dimention of the test data(76020, 371)\n"
     ]
    }
   ],
   "source": [
    "train = pd.read_csv(\"../data/train.csv\")\n",
    "test = pd.read_csv(\"../data/test.csv\")\n",
    "\n",
    "# clean and split data\n",
    "print (\"dimention of the traing data\"+ str(train.shape))\n",
    "print (\"dimention of the test data\"+ str(train.shape))"
   ]
  },
  {
   "cell_type": "code",
   "execution_count": 4,
   "metadata": {},
   "outputs": [
    {
     "name": "stdout",
     "output_type": "stream",
     "text": [
      "removing 34vars\n",
      "dimention of the traing removing 0 sd(76020, 337)\n",
      "dimention of the test removing 0 sd(76020, 337)\n"
     ]
    }
   ],
   "source": [
    "# remove constant columns (std = 0)\n",
    "remove = []\n",
    "for col in train.columns:\n",
    "    if train[col].std() == 0:\n",
    "        remove.append(col)\n",
    "\n",
    "\n",
    "train.drop(remove, axis=1, inplace=True)\n",
    "test.drop(remove, axis=1, inplace=True)\n",
    "print (\"removing \" + str(len(remove))+ \"vars\")\n",
    "print (\"dimention of the traing removing 0 sd\"+ str(train.shape))\n",
    "print (\"dimention of the test removing 0 sd\"+ str(train.shape))"
   ]
  },
  {
   "cell_type": "code",
   "execution_count": 5,
   "metadata": {},
   "outputs": [
    {
     "name": "stdout",
     "output_type": "stream",
     "text": [
      "removing 29vars\n",
      "dimention of the traing data after duplicated (76020, 308)\n",
      "dimention of the test data after duplicated (76020, 308)\n"
     ]
    }
   ],
   "source": [
    "# remove duplicated columns\n",
    "remove_dups = []\n",
    "cols = train.columns\n",
    "for i in range(len(cols)-1):\n",
    "    v = train[cols[i]].values\n",
    "    for j in range(i+1,len(cols)):\n",
    "        if np.array_equal(v,train[cols[j]].values):\n",
    "            remove_dups.append(cols[j])\n",
    "\n",
    "print (\"removing \" + str(len(remove_dups))+ \"vars\")\n",
    "train.drop(remove_dups, \n",
    "           axis=1, inplace=True)\n",
    "test.drop(remove_dups, axis=1, inplace=True)\n",
    "\n",
    "\n",
    "print (\"dimention of the traing data after duplicated \"+ str(train.shape))\n",
    "print (\"dimention of the test data after duplicated \"+ str(train.shape))"
   ]
  },
  {
   "cell_type": "code",
   "execution_count": 6,
   "metadata": {},
   "outputs": [
    {
     "name": "stdout",
     "output_type": "stream",
     "text": [
      "(60816, 306) (15204, 306) (75818, 306)\n"
     ]
    }
   ],
   "source": [
    "# split data into train and test\n",
    "test_id = test.ID\n",
    "test = test.drop([\"ID\"],axis=1)\n",
    "\n",
    "X = train.drop([\"TARGET\",\"ID\"],axis=1)\n",
    "y = train.TARGET.values\n",
    "\n",
    "X_train, X_test, y_train, y_test = train_test_split(X, y, test_size=0.2, random_state=1729)\n",
    "\n",
    "print(X_train.shape, X_test.shape, test.shape)"
   ]
  },
  {
   "cell_type": "code",
   "execution_count": 7,
   "metadata": {},
   "outputs": [
    {
     "name": "stdout",
     "output_type": "stream",
     "text": [
      "(60816, 54) (15204, 54) (75818, 54)\n"
     ]
    }
   ],
   "source": [
    "## # Feature selection\n",
    "from sklearn.feature_selection import SelectFromModel\n",
    "\n",
    "\n",
    "clf=lgb.LGBMClassifier()\n",
    "selector = clf.fit(X_train, y_train)\n",
    "fs = SelectFromModel(selector, prefit=True)\n",
    "X_train = fs.transform(X_train)\n",
    "X_test = fs.transform(X_test)\n",
    "test = fs.transform(test)\n",
    "\n",
    "print(X_train.shape, X_test.shape, test.shape)\n",
    "\n",
    "# embeded_lgb_support = embeded_lgb_selector.get_support()\n",
    "# embeded_lgb_feature = X.loc[:,embeded_lgb_support].columns.tolist()\n",
    "# print(str(len(embeded_lgb_feature)), 'selected features')\n",
    "\n",
    "# clf = RandomForestClassifier(random_state=1729)\n",
    "# selector = clf.fit(X_train, y_train)\n",
    "# # clf.feature_importances_ \n",
    "# fs = SelectFromModel(selector, prefit=True)\n",
    "\n",
    "# X_train = fs.transform(X_train)\n",
    "# X_test = fs.transform(X_test)\n",
    "# test = fs.transform(test)\n",
    "\n",
    "# print(X_train.shape, X_test.shape, test.shape)"
   ]
  },
  {
   "cell_type": "code",
   "execution_count": 8,
   "metadata": {},
   "outputs": [
    {
     "name": "stdout",
     "output_type": "stream",
     "text": [
      "[0]\tvalidation_0-auc:0.787596\n",
      "[1]\tvalidation_0-auc:0.791669\n",
      "[2]\tvalidation_0-auc:0.791738\n",
      "[3]\tvalidation_0-auc:0.795287\n",
      "[4]\tvalidation_0-auc:0.799052\n",
      "[5]\tvalidation_0-auc:0.798715\n",
      "[6]\tvalidation_0-auc:0.798495\n",
      "[7]\tvalidation_0-auc:0.798494\n",
      "[8]\tvalidation_0-auc:0.798624\n",
      "[9]\tvalidation_0-auc:0.798001\n",
      "[10]\tvalidation_0-auc:0.799355\n",
      "[11]\tvalidation_0-auc:0.800553\n",
      "[12]\tvalidation_0-auc:0.801058\n",
      "[13]\tvalidation_0-auc:0.801677\n",
      "[14]\tvalidation_0-auc:0.802055\n",
      "[15]\tvalidation_0-auc:0.80229\n",
      "[16]\tvalidation_0-auc:0.803853\n",
      "[17]\tvalidation_0-auc:0.804323\n",
      "[18]\tvalidation_0-auc:0.80482\n",
      "[19]\tvalidation_0-auc:0.804942\n",
      "[20]\tvalidation_0-auc:0.805213\n",
      "[21]\tvalidation_0-auc:0.806797\n",
      "[22]\tvalidation_0-auc:0.811364\n",
      "[23]\tvalidation_0-auc:0.812214\n",
      "[24]\tvalidation_0-auc:0.81724\n",
      "[25]\tvalidation_0-auc:0.814581\n",
      "[26]\tvalidation_0-auc:0.814684\n",
      "[27]\tvalidation_0-auc:0.815549\n",
      "[28]\tvalidation_0-auc:0.817289\n",
      "[29]\tvalidation_0-auc:0.817601\n",
      "[30]\tvalidation_0-auc:0.819446\n",
      "[31]\tvalidation_0-auc:0.819024\n",
      "[32]\tvalidation_0-auc:0.818981\n",
      "[33]\tvalidation_0-auc:0.819666\n",
      "[34]\tvalidation_0-auc:0.819802\n",
      "[35]\tvalidation_0-auc:0.819917\n",
      "[36]\tvalidation_0-auc:0.819823\n",
      "[37]\tvalidation_0-auc:0.820792\n",
      "[38]\tvalidation_0-auc:0.820942\n",
      "[39]\tvalidation_0-auc:0.821565\n",
      "[40]\tvalidation_0-auc:0.82242\n",
      "[41]\tvalidation_0-auc:0.823363\n",
      "[42]\tvalidation_0-auc:0.82375\n",
      "[43]\tvalidation_0-auc:0.824171\n",
      "[44]\tvalidation_0-auc:0.824173\n",
      "[45]\tvalidation_0-auc:0.824386\n",
      "[46]\tvalidation_0-auc:0.825056\n",
      "[47]\tvalidation_0-auc:0.825117\n",
      "[48]\tvalidation_0-auc:0.825464\n",
      "[49]\tvalidation_0-auc:0.825775\n",
      "[50]\tvalidation_0-auc:0.826017\n",
      "[51]\tvalidation_0-auc:0.826359\n",
      "[52]\tvalidation_0-auc:0.826305\n",
      "[53]\tvalidation_0-auc:0.826864\n",
      "[54]\tvalidation_0-auc:0.82714\n",
      "[55]\tvalidation_0-auc:0.827544\n",
      "[56]\tvalidation_0-auc:0.827682\n",
      "[57]\tvalidation_0-auc:0.828073\n",
      "[58]\tvalidation_0-auc:0.828344\n",
      "[59]\tvalidation_0-auc:0.828648\n",
      "[60]\tvalidation_0-auc:0.828776\n",
      "[61]\tvalidation_0-auc:0.829168\n",
      "[62]\tvalidation_0-auc:0.829449\n",
      "[63]\tvalidation_0-auc:0.829464\n",
      "[64]\tvalidation_0-auc:0.829486\n",
      "[65]\tvalidation_0-auc:0.829425\n",
      "[66]\tvalidation_0-auc:0.829629\n",
      "[67]\tvalidation_0-auc:0.829687\n",
      "[68]\tvalidation_0-auc:0.829862\n",
      "[69]\tvalidation_0-auc:0.829777\n",
      "[70]\tvalidation_0-auc:0.829876\n",
      "[71]\tvalidation_0-auc:0.829736\n",
      "[72]\tvalidation_0-auc:0.829913\n",
      "[73]\tvalidation_0-auc:0.829986\n",
      "[74]\tvalidation_0-auc:0.830144\n",
      "[75]\tvalidation_0-auc:0.830237\n",
      "[76]\tvalidation_0-auc:0.830194\n",
      "[77]\tvalidation_0-auc:0.830377\n",
      "[78]\tvalidation_0-auc:0.830331\n",
      "[79]\tvalidation_0-auc:0.830624\n",
      "[80]\tvalidation_0-auc:0.830846\n",
      "[81]\tvalidation_0-auc:0.830918\n",
      "[82]\tvalidation_0-auc:0.830983\n",
      "[83]\tvalidation_0-auc:0.831037\n",
      "[84]\tvalidation_0-auc:0.831269\n",
      "[85]\tvalidation_0-auc:0.831312\n",
      "[86]\tvalidation_0-auc:0.831375\n",
      "[87]\tvalidation_0-auc:0.831431\n",
      "[88]\tvalidation_0-auc:0.831586\n",
      "[89]\tvalidation_0-auc:0.831492\n",
      "[90]\tvalidation_0-auc:0.831602\n",
      "[91]\tvalidation_0-auc:0.831747\n",
      "[92]\tvalidation_0-auc:0.831641\n",
      "[93]\tvalidation_0-auc:0.831887\n",
      "[94]\tvalidation_0-auc:0.831972\n",
      "[95]\tvalidation_0-auc:0.832036\n",
      "[96]\tvalidation_0-auc:0.832145\n",
      "[97]\tvalidation_0-auc:0.832158\n",
      "[98]\tvalidation_0-auc:0.832236\n",
      "[99]\tvalidation_0-auc:0.832326\n",
      "[100]\tvalidation_0-auc:0.83229\n",
      "[101]\tvalidation_0-auc:0.832344\n",
      "[102]\tvalidation_0-auc:0.832432\n",
      "[103]\tvalidation_0-auc:0.832475\n",
      "[104]\tvalidation_0-auc:0.832509\n",
      "[105]\tvalidation_0-auc:0.832545\n",
      "[106]\tvalidation_0-auc:0.832679\n",
      "[107]\tvalidation_0-auc:0.832723\n",
      "[108]\tvalidation_0-auc:0.83278\n",
      "[109]\tvalidation_0-auc:0.832795\n"
     ]
    },
    {
     "data": {
      "text/plain": [
       "XGBClassifier(base_score=0.5, booster='gbtree', colsample_bylevel=1,\n",
       "       colsample_bytree=1, gamma=0, learning_rate=0.1, max_delta_step=0,\n",
       "       max_depth=3, min_child_weight=1, missing=None, n_estimators=110,\n",
       "       n_jobs=1, nthread=-1, objective='binary:logistic', random_state=0,\n",
       "       reg_alpha=0, reg_lambda=1, scale_pos_weight=1, seed=1729,\n",
       "       silent=True, subsample=1)"
      ]
     },
     "execution_count": 8,
     "metadata": {},
     "output_type": "execute_result"
    }
   ],
   "source": [
    "## # Train Model\n",
    "# classifier from xgboost\n",
    "m2_xgb = xgb.XGBClassifier(n_estimators=110, nthread=-1, seed=1729)\n",
    "m2_xgb.fit(X_train, y_train, eval_metric=\"auc\",\n",
    "           eval_set=[(X_test, y_test)])"
   ]
  },
  {
   "cell_type": "code",
   "execution_count": 9,
   "metadata": {},
   "outputs": [
    {
     "name": "stdout",
     "output_type": "stream",
     "text": [
      "Roc AUC:  0.8327948531163114\n"
     ]
    }
   ],
   "source": [
    "# calculate the auc score\n",
    "print(\"Roc AUC: \", roc_auc_score(y_test, m2_xgb.predict_proba(X_test)[:,1],\n",
    "              average='macro'))"
   ]
  },
  {
   "cell_type": "code",
   "execution_count": null,
   "metadata": {},
   "outputs": [],
   "source": []
  },
  {
   "cell_type": "code",
   "execution_count": 10,
   "metadata": {},
   "outputs": [],
   "source": [
    "d_train = lgb.Dataset(X_train, label=y_train)   # (60816, 306) (15204, 306)\n",
    "params = {\n",
    "    'boosting_type': 'gbdt',\n",
    "    'objective': 'binary',\n",
    "    'metric': 'auc',\n",
    "}\n",
    "clf = lgb.train(train_set=d_train, params=params)"
   ]
  },
  {
   "cell_type": "code",
   "execution_count": 11,
   "metadata": {},
   "outputs": [
    {
     "name": "stdout",
     "output_type": "stream",
     "text": [
      "Roc AUC:  0.8298656488269767\n"
     ]
    }
   ],
   "source": [
    "# calculate the auc score\n",
    "print(\"Roc AUC: \", roc_auc_score(y_test, clf.predict(X_test), average='macro'))"
   ]
  },
  {
   "cell_type": "code",
   "execution_count": 12,
   "metadata": {},
   "outputs": [
    {
     "name": "stdout",
     "output_type": "stream",
     "text": [
      "[0.03945041 0.06405031 0.00082802 ... 0.00374245 0.06930675 0.00083459]\n"
     ]
    }
   ],
   "source": [
    "## # Submission\n",
    "probs = clf.predict(test)\n",
    "print(probs)\n",
    "submission = pd.DataFrame({\"ID\":test_id, \"TARGET\": probs})\n",
    "submission.to_csv(\"submission.csv\", index=False)"
   ]
  },
  {
   "cell_type": "code",
   "execution_count": null,
   "metadata": {},
   "outputs": [],
   "source": []
  }
 ],
 "metadata": {
  "kernelspec": {
   "display_name": "Python 3",
   "language": "python",
   "name": "python3"
  },
  "language_info": {
   "codemirror_mode": {
    "name": "ipython",
    "version": 3
   },
   "file_extension": ".py",
   "mimetype": "text/x-python",
   "name": "python",
   "nbconvert_exporter": "python",
   "pygments_lexer": "ipython3",
   "version": "3.7.1"
  }
 },
 "nbformat": 4,
 "nbformat_minor": 2
}
