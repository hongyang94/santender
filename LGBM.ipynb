{
 "cells": [
  {
   "cell_type": "code",
   "execution_count": 1,
   "metadata": {},
   "outputs": [],
   "source": [
    "from sklearn.model_selection import train_test_split\n",
    "from sklearn.metrics import roc_auc_score\n",
    "\n",
    "import pandas as pd\n",
    "import numpy as np\n",
    "import time\n",
    "import lightgbm as lgb"
   ]
  },
  {
   "cell_type": "code",
   "execution_count": 2,
   "metadata": {},
   "outputs": [],
   "source": [
    "def verbalise_dataset(train, test):\n",
    "    print('Train shape:' + str(train.shape))\n",
    "    print('Test shape:' + str(test.shape))\n",
    "    print()"
   ]
  },
  {
   "cell_type": "code",
   "execution_count": 3,
   "metadata": {},
   "outputs": [
    {
     "name": "stdout",
     "output_type": "stream",
     "text": [
      "Dataset loaded, time elapsed: 27.38778281211853\n",
      "Dataset loaded, time elapsed: 27.817090034484863\n",
      "Train shape:(76020, 371)\n",
      "Test shape:(75818, 370)\n",
      "\n"
     ]
    }
   ],
   "source": [
    "def load_file(filepath):\n",
    "\n",
    "    start_time = time.time()\n",
    "    df = pd.read_csv(filepath, low_memory=False)\n",
    "    elapsed_time = time.time() - start_time\n",
    "    print(\"Dataset loaded, time elapsed: \" + str(elapsed_time))\n",
    "\n",
    "    return df\n",
    "\n",
    "train = load_file('../data/train.csv')  # (76020, 371)\n",
    "test = load_file('../data/test.csv')  # (75818, 370)\n",
    "verbalise_dataset(train, test)"
   ]
  },
  {
   "cell_type": "code",
   "execution_count": 4,
   "metadata": {},
   "outputs": [
    {
     "name": "stdout",
     "output_type": "stream",
     "text": [
      "Removing duplicated features\n",
      "Train shape:(76020, 309)\n",
      "Test shape:(75818, 308)\n",
      "\n"
     ]
    }
   ],
   "source": [
    "def remove_duplicate_col(train, test):\n",
    "\n",
    "    print('Removing duplicated features')\n",
    "    output = []\n",
    "    columns = train.columns  # list of headers\n",
    "    for i in range(len(columns)-1):\n",
    "        for j in range(i+1,len(columns)):\n",
    "            if np.array_equal(train[columns[i]].values, train[columns[j]].values) and columns[j] not in output:\n",
    "                    output.append(columns[j])\n",
    "    \n",
    "    train = train.drop(output, axis=1)\n",
    "    test = test.drop(output, axis=1)\n",
    "\n",
    "    return train, test\n",
    "\n",
    "\n",
    "clean_train, clean_test = remove_duplicate_col(train, test)\n",
    "verbalise_dataset(clean_train, clean_test)"
   ]
  },
  {
   "cell_type": "code",
   "execution_count": 5,
   "metadata": {},
   "outputs": [
    {
     "name": "stdout",
     "output_type": "stream",
     "text": [
      "Removing constant features\n",
      "Train shape:(76020, 308)\n",
      "Test shape:(75818, 307)\n",
      "\n"
     ]
    }
   ],
   "source": [
    "def remove_constant_col(train, test):\n",
    "\n",
    "    print('Removing constant features')\n",
    "    columns = []\n",
    "    for col in train.columns:\n",
    "        if train[col].std() == 0:\n",
    "            columns.append(col)\n",
    "\n",
    "    train = train.drop(columns, axis=1)\n",
    "    test = test.drop(columns, axis=1)\n",
    "\n",
    "    return train, test\n",
    "\n",
    "clean_train, clean_test = remove_constant_col(clean_train, clean_test)\n",
    "verbalise_dataset(clean_train, clean_test)"
   ]
  },
  {
   "cell_type": "code",
   "execution_count": 6,
   "metadata": {},
   "outputs": [
    {
     "name": "stdout",
     "output_type": "stream",
     "text": [
      "(60816, 306) (15204, 306)\n"
     ]
    }
   ],
   "source": [
    "# split data into train and test\n",
    "X = clean_train.drop([\"TARGET\",\"ID\"],axis=1)\n",
    "Y = clean_train['TARGET'].values\n",
    "\n",
    "X_train, X_test, Y_train, Y_test = train_test_split(X, Y, test_size=0.20, random_state=1632)\n",
    "print(X_train.shape, X_test.shape)"
   ]
  },
  {
   "cell_type": "code",
   "execution_count": 7,
   "metadata": {},
   "outputs": [],
   "source": [
    "d_train = lgb.Dataset(X_train, label=Y_train)\n",
    "params = {\n",
    "    'boosting_type': 'gbdt',\n",
    "    'objective': 'binary',\n",
    "    'metric': 'auc',\n",
    "}\n",
    "clf = lgb.train(train_set=d_train, params=params)"
   ]
  },
  {
   "cell_type": "code",
   "execution_count": 8,
   "metadata": {},
   "outputs": [
    {
     "name": "stdout",
     "output_type": "stream",
     "text": [
      "Score: 0.8379656444267355\n"
     ]
    }
   ],
   "source": [
    "Y_pred=clf.predict(X_test)\n",
    "print(\"Score: \" + str(roc_auc_score(Y_test, Y_pred)))"
   ]
  }
 ],
 "metadata": {
  "kernelspec": {
   "display_name": "Python 3",
   "language": "python",
   "name": "python3"
  },
  "language_info": {
   "codemirror_mode": {
    "name": "ipython",
    "version": 3
   },
   "file_extension": ".py",
   "mimetype": "text/x-python",
   "name": "python",
   "nbconvert_exporter": "python",
   "pygments_lexer": "ipython3",
   "version": "3.7.1"
  }
 },
 "nbformat": 4,
 "nbformat_minor": 2
}
